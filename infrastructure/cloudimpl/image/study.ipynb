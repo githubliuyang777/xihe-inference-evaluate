{
 "cells": [
  {
   "attachments": {},
   "cell_type": "markdown",
   "id": "cce35979-0aff-4126-a7fc-3dddaac65df2",
   "metadata": {
    "tags": []
   },
   "source": [
    "<font size=6>🥳**欢迎体验Jupyter云上开发环境**</font>"
   ]
  },
  {
   "attachments": {},
   "cell_type": "markdown",
   "id": "f328b077-0531-4d1a-9c1d-530a043c25ba",
   "metadata": {
    "jp-MarkdownHeadingCollapsed": true,
    "tags": []
   },
   "source": [
    "# 使用须知\n",
    "> - 目前`jupyter`运行时长限制只能运行2个小时。**2个小时之后将会自动释放所有资源，请提前将所需资源下载到本地或git push到平台中**。\n",
    "> - 本平台是开放的学习平台，禁止使用本平台进行商业用途和非法用途或者恶意攻击，一旦发现将依法追究。\n",
    "\n",
    "此开发环境是使用的是`Jupyter Lab 3.x`，并集成了实用的插件。您可以在`Jupyter Lab`上灵活运行调试代码和编写文档，`Jupyter Lab`集成了很多编辑器，例如 `Jupyter` 笔记本、文本编辑器、终端和自定义组件。更多的详细介绍你可以查看 [JupyterLab官网文档介绍](https://jupyterlab.readthedocs.io/en/stable/getting_started/overview.html#overview)。\n",
    "    \n",
    "接下来跟我来一起沉浸式地探索`Jupyter Lab`吧❗\n",
    "\n",
    "**若您不熟悉`Jupyter Lab`, 您可以先阅读`Jupyter操作文档.inynb`文件熟悉`Jupyter`的基本操作**"
   ]
  },
  {
   "cell_type": "markdown",
   "id": "0e4a7f21-9594-4682-bec4-0bb0d7901be8",
   "metadata": {
    "tags": []
   },
   "source": [
    "# 快速体验平台操作"
   ]
  },
  {
   "attachments": {},
   "cell_type": "markdown",
   "id": "433ba222-a423-4f41-8c52-b9e3a248f6a6",
   "metadata": {
    "tags": []
   },
   "source": [
    "## 快速体验推理\n",
    "平台集成了[大模型套件MindSpore MindFormers](https://gitee.com/mindspore/mindformers/tree/r0.3/)，可支持下载和加载类Transformer和SOTA模型，并支持pipeline推理，目前支持text classifcation、token classification、swin、vit、zero shot classification和question answering等下游任务。\n",
    "未来平台将会集成MindSpore MindFormers更多的特性，**MindFormers具有更多的特性，比如预训练、微调、评估、多卡训练等，如果感兴趣可以进入下面代码仓，一键三连哦**。\n",
    "- [MindFormers仓](https://gitee.com/mindspore/mindformers/tree/r0.3/)\n",
    "- [MindSPore仓](https://gitee.com/mindspore/mindspore)\n",
    "\n",
    "**MindFormers下游任务体验链接（持续更新中）**：\n",
    "- [vit](https://xihe.mindspore.cn/projects/MindSpore/vit_image_classification)\n",
    "- [swin](https://xihe.mindspore.cn/projects/MindSpore/Swin)\n",
    "- [token classification](https://xihe.mindspore.cn/projects/MindSpore/token_classification)\n",
    "- [text classifcation](https://xihe.mindspore.cn/projects/MindSpore/text_classification)\n",
    "- [zero shot classification](https://xihe.mindspore.cn/projects/MindSpore/zero_shot_image_classification)\n",
    "- [question answering](https://xihe.mindspore.cn/projects/MindSpore/question_answering)"
   ]
  },
  {
   "cell_type": "markdown",
   "id": "e20014b5-4e4f-4a47-936a-9ec69b828df9",
   "metadata": {
    "tags": []
   },
   "source": [
    "**你可以`Ctrl+Enter`运行下面代码，或者使用菜单栏的三角形运行下面的Cell，注意一定要按顺序执行。**"
   ]
  },
  {
   "cell_type": "code",
   "execution_count": null,
   "id": "e432aef0-f8d4-4113-b1c8-6a30ac127000",
   "metadata": {
    "tags": []
   },
   "outputs": [],
   "source": [
    "# 若出现ValueError: Failed to read the checkpoint file . May not have permission to read it, please check the correct of the file. 请将下面注释放开\n",
    "# !rm checkpoint_download/vit/ -rf\n",
    "from mindformers.pipeline import pipeline\n",
    "from mindformers.tools.image_tools import load_image\n",
    "\n",
    "pipeline_task = pipeline(\"image_classification\", model=\"mindspore/vit_base_p16\")\n",
    "img = load_image(\n",
    "    \"https://ascend-repo-modelzoo.obs.cn-east-2.myhuaweicloud.com/XFormer_for_mindspore/clip/sunflower.png\"\n",
    ")\n",
    "pipeline_result = pipeline_task(img, top_k=3)\n",
    "pipeline_result"
   ]
  },
  {
   "cell_type": "code",
   "execution_count": null,
   "id": "ccea5f32-6021-43af-af71-9c3890477dc7",
   "metadata": {
    "tags": []
   },
   "outputs": [],
   "source": [
    "# 若出现ValueError: Failed to read the checkpoint file . May not have permission to read it, please check the correct of the file. 请将下面注释放开\n",
    "# !rm checkpoint_download/vit/ -rf\n",
    "from mindformers import AutoConfig, AutoTokenizer, BertForTokenClassification\n",
    "from mindformers.dataset.labels import cluener_labels\n",
    "from mindformers.pipeline import TokenClassificationPipeline\n",
    "\n",
    "input_data = [\"表身刻有代表日内瓦钟表匠freresoltramare的“fo”字样。\"]\n",
    "\n",
    "id2label = {label_id: label for label_id, label in enumerate(cluener_labels)}\n",
    "\n",
    "tokenizer = AutoTokenizer.from_pretrained(\n",
    "    \"mindspore/tokcls_bert_base_chinese_cluener\",\n",
    ")\n",
    "tokcls_cluener_config = AutoConfig.from_pretrained(\n",
    "    \"mindspore/tokcls_bert_base_chinese_cluener\",\n",
    ")\n",
    "\n",
    "# This is a known issue, you need to specify batch size equal to 1 when creating bert model.\n",
    "tokcls_cluener_config.batch_size = 1\n",
    "\n",
    "model = BertForTokenClassification(tokcls_cluener_config)\n",
    "tokcls_pipeline = TokenClassificationPipeline(\n",
    "    task=\"token_classification\",\n",
    "    model=model,\n",
    "    id2label=id2label,\n",
    "    tokenizer=tokenizer,\n",
    "    max_length=model.config.seq_length,\n",
    "    padding=\"max_length\",\n",
    ")\n",
    "\n",
    "results = tokcls_pipeline(input_data)\n",
    "results"
   ]
  },
  {
   "cell_type": "markdown",
   "id": "178e20e3-ab08-46a8-b078-31c21c1d93dd",
   "metadata": {
    "tags": []
   },
   "source": [
    "## 快速体验训练\n",
    "**这里以Lenet5实现手写数字体为案例**\n",
    "\n",
    "**基本介绍**\n",
    "\n",
    "LeNet描述\n",
    "LeNet是1998年提出的一种典型的卷积神经网络。它被用于数字识别并取得了巨大的成功。\n",
    "\n",
    "[论文](https://gitee.com/link?target=https%3A%2F%2Fieeexplore.ieee.org%2Fdocument%2F726791)： Y.Lecun, L.Bottou, Y.Bengio, P.Haffner.Gradient-Based Learning Applied to Document Recognition.Proceedings of the IEEE.1998.\n",
    "\n",
    "**模型架构**\n",
    "\n",
    "LeNet非常简单，包含5层，由2个卷积层和3个全连接层组成。\n",
    "\n",
    "![Lenet5](https://mindspore-website.obs.cn-north-4.myhuaweicloud.com/website-images/r1.7/tutorials/source_zh_cn/beginner/images/lenet.png)"
   ]
  },
  {
   "cell_type": "markdown",
   "id": "46a44f26-db86-4849-a50a-b7145241624a",
   "metadata": {
    "tags": []
   },
   "source": [
    "### 下载预训练模型\n",
    "下载完成后，下载完成后的目录结构如下：  \n",
    "\n",
    "```\n",
    "└── lenet_mnist\n",
    "    ├── best.ckpt\n",
    "    ├── lenet_ascend_v150_mnist_official_cv_acc98.49.ckpt\n",
    "    ├── lenet_ascend_v160_mnist_official_cv_acc98.49.ckpt\n",
    "    ├── lenet_ascend_v170_mnist_official_cv_acc98.49.ckpt\n",
    "    ├── lenet-1_1875.ckpt\n",
    "    └── README.md\n",
    "```\n",
    "这里用lenet-1_1875.ckpt做finetune"
   ]
  },
  {
   "cell_type": "code",
   "execution_count": null,
   "id": "bfb42a8b-0798-4609-8149-b33cd41028d8",
   "metadata": {
    "tags": []
   },
   "outputs": [],
   "source": [
    "!git clone https://source-xihe.mindspore.cn/MindSpore/lenet_mnist.git"
   ]
  },
  {
   "cell_type": "markdown",
   "id": "51d806ac-4418-4a6f-a14c-681c42edb6b9",
   "metadata": {
    "tags": []
   },
   "source": [
    "###  下载MNIST数据集\n",
    "\n",
    "下载完成后，下载完成后的目录结构如下：  \n",
    "```\n",
    "└── MNIST_Data\n",
    "    ├── test # 测试集\n",
    "    │   ├── t10k-images-idx3-ubyte \n",
    "    │   └── t10k-labels-idx1-ubyte \n",
    "    │── train # 训练集\n",
    "    │    ├── train-images-idx3-ubyte\n",
    "    │    └── train-lables-idx1-ubyte\n",
    "    └── README.md\n",
    "```"
   ]
  },
  {
   "cell_type": "code",
   "execution_count": null,
   "id": "16570322-0191-498c-bfb8-ff6a96c2dbfd",
   "metadata": {
    "tags": []
   },
   "outputs": [],
   "source": [
    "from download import download\n",
    "\n",
    "url = (\n",
    "    \"https://mindspore-website.obs.cn-north-4.myhuaweicloud.com/\"\n",
    "    \"notebook/datasets/MNIST_Data.zip\"\n",
    ")\n",
    "path = download(url, \"./\", kind=\"zip\", replace=True)"
   ]
  },
  {
   "cell_type": "markdown",
   "id": "9371f92a-9ff1-47d7-a412-aad573c0f1cb",
   "metadata": {},
   "source": [
    "###  执行训练代码\n",
    "\n",
    "代码来源于[lenet5代码仓](https://xihe.mindspore.cn/projects/MindSpore/lenet5/tree)的[train.py文件](https://xihe.mindspore.cn/projects/MindSpore/lenet5/blob/train/train.py)\n",
    "\n",
    "**您可以手动地调整下面的超参数**"
   ]
  },
  {
   "cell_type": "code",
   "execution_count": null,
   "id": "91215c1a-ddfc-4f11-bbbf-5c74e484e2c0",
   "metadata": {
    "tags": []
   },
   "outputs": [],
   "source": [
    "# Copyright 2022 Huawei Technologies Co., Ltd\n",
    "#\n",
    "# Licensed under the Apache License, Version 2.0 (the \"License\");\n",
    "# you may not use this file except in compliance with the License.\n",
    "# You may obtain a copy of the License at\n",
    "#\n",
    "# http://www.apache.org/licenses/LICENSE-2.0\n",
    "#\n",
    "# Unless required by applicable law or agreed to in writing, software\n",
    "# distributed under the License is distributed on an \"AS IS\" BASIS,\n",
    "# WITHOUT WARRANTIES OR CONDITIONS OF ANY KIND, either express or implied.\n",
    "# See the License for the specific language governing permissions and\n",
    "# limitations under the License.\n",
    "# ============================================================================\n",
    "\n",
    "\"\"\" LeNet training \"\"\"\n",
    "\n",
    "import os\n",
    "\n",
    "import mindspore\n",
    "from mindspore import load_checkpoint, load_param_into_net, nn\n",
    "from mindspore.train import Model\n",
    "from mindspore.train.callback import CheckpointConfig, ModelCheckpoint\n",
    "from mindvision.classification.dataset import Mnist\n",
    "from mindvision.classification.models import lenet\n",
    "from mindvision.engine.callback import LossMonitor\n",
    "\n",
    "data_url = \"./MNIST_Data\"\n",
    "pretrain_url = \"lenet_mnist/lenet-1_1875.ckpt\"\n",
    "output_path = \"./output\"\n",
    "\n",
    "# 超参数设置\n",
    "learning_rate = 0.01\n",
    "momentum = 0.9\n",
    "batch_size = 32\n",
    "num_epochs = 5\n",
    "\n",
    "\n",
    "def train():\n",
    "    # 将模型参数存入parameter的字典中，这里加载的是上面训练过程中保存的模型参数\n",
    "    param_dict = load_checkpoint(pretrain_url)\n",
    "\n",
    "    # 重新定义一个LeNet神经网络\n",
    "    network = lenet(num_classes=10, pretrained=False)\n",
    "\n",
    "    # 将参数加载到网络中\n",
    "    load_param_into_net(network, param_dict)\n",
    "    # 定义损失函数\n",
    "    net_loss = nn.SoftmaxCrossEntropyWithLogits(sparse=True, reduction=\"mean\")\n",
    "    # 定义优化器函数\n",
    "    net_opt = nn.Momentum(\n",
    "        network.trainable_params(),\n",
    "        learning_rate=learning_rate,\n",
    "        momentum=momentum,\n",
    "    )\n",
    "    model = Model(\n",
    "        network,\n",
    "        loss_fn=net_loss,\n",
    "        optimizer=net_opt,\n",
    "        metrics={\"accuracy\"},\n",
    "    )\n",
    "\n",
    "    # 定义训练数据集\n",
    "    download_train = Mnist(\n",
    "        path=data_url,\n",
    "        split=\"train\",\n",
    "        batch_size=batch_size,\n",
    "        repeat_num=1,\n",
    "        shuffle=True,\n",
    "        resize=32,\n",
    "        download=True,\n",
    "    )\n",
    "    dataset_train = download_train.run()\n",
    "    # print(len(download_train))\n",
    "    # print(dataset_train.)\n",
    "\n",
    "    # 设置模型保存参数\n",
    "    config_ck = CheckpointConfig(\n",
    "        save_checkpoint_steps=int(60000 / batch_size), keep_checkpoint_max=1\n",
    "    )\n",
    "\n",
    "    # 应用模型保存参数\n",
    "    check_point = ModelCheckpoint(\n",
    "        prefix=\"lenet\", directory=output_path, config=config_ck\n",
    "    )\n",
    "\n",
    "    # 训练网络模型\n",
    "    model.train(\n",
    "        num_epochs, dataset_train, callbacks=[check_point, LossMonitor(0.01, 1875)]\n",
    "    )\n",
    "\n",
    "\n",
    "# 执行训练\n",
    "train()"
   ]
  },
  {
   "cell_type": "markdown",
   "id": "72c44528-1f27-4c3d-b788-ed8fe4192ca2",
   "metadata": {},
   "source": [
    "## 快速体验推理可视化\n",
    "平台集成[Gradio](https://www.gradio.app/docs), 您可以自定义应用。由于安全问题你需要将`gr.xx.launch(share=True)`的`share`设为`True`，即可在Jupyter体验Gradio"
   ]
  },
  {
   "cell_type": "code",
   "execution_count": null,
   "id": "87bf43a1-8ca6-48f1-9816-e2cf0151c6e2",
   "metadata": {
    "tags": []
   },
   "outputs": [],
   "source": [
    "import cv2\n",
    "import gradio as gr\n",
    "import numpy as np\n",
    "from mindspore import Tensor, load_checkpoint, load_param_into_net\n",
    "from mindspore.nn import Softmax\n",
    "from mindspore.train import Model\n",
    "from mindvision.classification.models import lenet\n",
    "\n",
    "NUM_CLASS = 10\n",
    "ckpt_path = \"./lenet_mnist/best.ckpt\"\n",
    "\n",
    "# 加载网路\n",
    "# 将模型参数存入parameter的字典中\n",
    "param_dict = load_checkpoint(ckpt_path)\n",
    "\n",
    "# 重新定义一个LeNet神经网络,注意输入是32*32，loss采用的是SoftmaxCE\n",
    "network = lenet(num_classes=NUM_CLASS, pretrained=False)\n",
    "# 将参数加载到网络中\n",
    "load_param_into_net(network, param_dict)\n",
    "model = Model(network)\n",
    "\n",
    "\n",
    "def predict_digit(img):\n",
    "    # 处理图片,转化为 N，C，H,W\n",
    "    img = cv2.resize(img, (32, 32))\n",
    "    img = img.astype(np.float32)\n",
    "    img = img / 255\n",
    "    img = img.reshape((1, 1, 32, 32))\n",
    "\n",
    "    # 预测\n",
    "    predict_score = model.predict(Tensor(img)).reshape(-1)\n",
    "    predict_probability = Softmax()(predict_score)\n",
    "\n",
    "    return {str(i): predict_probability[i].asnumpy().item() for i in range(NUM_CLASS)}\n",
    "\n",
    "\n",
    "gr.Interface(\n",
    "    fn=predict_digit,\n",
    "    inputs=\"sketchpad\",\n",
    "    outputs=gr.outputs.Label(num_top_classes=NUM_CLASS, label=\"预测类别\"),\n",
    "    live=False,\n",
    "    css=\".footer {display:none !important}\",\n",
    "    title=\"0-9数字画板\",\n",
    "    description=\"画0-9数字\",\n",
    ").launch(share=True)"
   ]
  },
  {
   "cell_type": "markdown",
   "id": "c5e65ffd-5077-4925-aa83-f575079db0c1",
   "metadata": {},
   "source": [
    "## TinyMS版本推理\n",
    "TinyMS是一款主要用PyThon语言编写的开源深度学习开发工具包，基于以MindSpore为代表的新型开源深度学习框架，提供面向从数据准备到模型部署全流程的极简易用的高阶API封装，并通过易于扩展的模块化设计，提供覆盖多种业务场景的能力。\n",
    "\n",
    "相关链接\n",
    "- [TinyMS官方文档](https://tinyms.readthedocs.io/en/latest/quickstart/overview.html)\n",
    "- [TinyMS官方仓](https://github.com/tinyms-ai/tinyms)"
   ]
  },
  {
   "cell_type": "code",
   "execution_count": null,
   "id": "2cf1366b-2cc8-4180-8ddb-b751b9a34483",
   "metadata": {
    "tags": []
   },
   "outputs": [],
   "source": [
    "# 你也可以通过download下载\n",
    "from download import download\n",
    "\n",
    "url = \"https://obs-xihe-beijing4.obs.cn-north-4.myhuaweicloud.com/xihe-img/projects/cloud/5.png\"\n",
    "path = download(url, \"./5.png\", kind=\"file\", replace=True)"
   ]
  },
  {
   "cell_type": "code",
   "execution_count": null,
   "id": "cd0c1b2a-81b1-4655-83d2-e0f68067066d",
   "metadata": {
    "tags": []
   },
   "outputs": [],
   "source": [
    "import tinyms as ts\n",
    "from mindspore import Tensor\n",
    "from PIL import Image\n",
    "from tinyms.model import Model, lenet5\n",
    "from tinyms.vision import mnist_transform\n",
    "\n",
    "img = Image.open(\"./5.png\")\n",
    "img = mnist_transform(img)\n",
    "\n",
    "net = lenet5(class_num=10)\n",
    "model = Model(net)\n",
    "model.load_checkpoint(\"./lenet_mnist/best.ckpt\")\n",
    "\n",
    "input = ts.expand_dims(ts.Tensor(img), 0)\n",
    "res = model.predict(input).asnumpy()\n",
    "print(\"The label is:\", mnist_transform.postprocess(res))"
   ]
  },
  {
   "cell_type": "markdown",
   "id": "5f2037b1-8798-4e5b-a360-0e8b67b6a991",
   "metadata": {
    "tags": []
   },
   "source": [
    "## 更多体验持续更新中..."
   ]
  }
 ],
 "metadata": {
  "kernelspec": {
   "display_name": "Python 3 (ipykernel)",
   "language": "python",
   "name": "python3"
  },
  "language_info": {
   "codemirror_mode": {
    "name": "ipython",
    "version": 3
   },
   "file_extension": ".py",
   "mimetype": "text/x-python",
   "name": "python",
   "nbconvert_exporter": "python",
   "pygments_lexer": "ipython3",
   "version": "3.9.7"
  },
  "toc-autonumbering": true,
  "toc-showcode": false,
  "toc-showmarkdowntxt": false,
  "toc-showtags": false
 },
 "nbformat": 4,
 "nbformat_minor": 5
}
